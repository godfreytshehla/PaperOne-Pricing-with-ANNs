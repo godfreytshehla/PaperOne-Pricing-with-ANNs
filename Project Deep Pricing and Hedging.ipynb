{
 "cells": [
  {
   "cell_type": "code",
   "execution_count": 91,
   "id": "f1ad6399",
   "metadata": {},
   "outputs": [],
   "source": [
    "import numpy as np\n",
    "from scipy.stats import norm\n",
    "import tensorflow as tf\n",
    "import keras\n",
    "from keras import layers\n",
    "from sklearn.preprocessing import MinMaxScaler\n",
    "from sklearn.model_selection import train_test_split\n",
    "import matplotlib.pyplot as plt\n",
    "from FFNDLResearchModels import *"
   ]
  },
  {
   "cell_type": "markdown",
   "id": "061e7eb9",
   "metadata": {},
   "source": [
    "## The Underlying Instruments"
   ]
  },
  {
   "cell_type": "code",
   "execution_count": 94,
   "id": "9f811095",
   "metadata": {},
   "outputs": [],
   "source": [
    "class ZeroCouponBond:\n",
    "    def __init__(self, maturity: float, riskFreeRate: float):\n",
    "        self.riskFreeRate = riskFreeRate\n",
    "        self.maturity = maturity\n",
    "\n",
    "    def price(self):\n",
    "        value = np.exp(-self.riskFreeRate * self.maturity)\n",
    "        return value"
   ]
  },
  {
   "cell_type": "code",
   "execution_count": 95,
   "id": "c1c4289c",
   "metadata": {},
   "outputs": [],
   "source": [
    "class AnalyticalVanillaEuropeanOption:\n",
    "    def __init__(self, maturity: float, initialStockPrice: float, strikePrice: float, riskFreeRate: float, impliedVolatility: float, option_type: str):\n",
    "        self.maturity = maturity\n",
    "        self.initialStockPrice = initialStockPrice\n",
    "        self.strikePrice = strikePrice\n",
    "        self.riskFreeRate = riskFreeRate\n",
    "        self.impliedVolatility = impliedVolatility\n",
    "        self.option_type = option_type.lower()\n",
    "\n",
    "    def __compute_d1_d2(self):\n",
    "        d1 = (np.log(self.initialStockPrice / self.strikePrice) + \n",
    "              (self.riskFreeRate + 0.5 * self.impliedVolatility**2) * \n",
    "              self.maturity) / (self.impliedVolatility * np.sqrt(self.maturity))\n",
    "        d2 = d1 - self.impliedVolatility * np.sqrt(self.maturity)\n",
    "        return d1, d2\n",
    "    \n",
    "    def price(self):\n",
    "        d1, d2 = self.__compute_d1_d2()\n",
    "        if self.option_type == 'call':\n",
    "            price = (self.initialStockPrice * norm.cdf(d1) - \n",
    "                     self.strikePrice * np.exp(-self.riskFreeRate * self.maturity) * \n",
    "                     norm.cdf(d2))\n",
    "        else:  # Put option\n",
    "            price = (self.strikePrice * np.exp(-self.riskFreeRate * self.maturity) * \n",
    "                     norm.cdf(-d2) - self.initialStockPrice * norm.cdf(-d1))\n",
    "        return price\n",
    "    \n",
    "    def delta(self):\n",
    "        d1, _ = self.__compute_d1_d2()\n",
    "        if self.option_type == 'call':\n",
    "            delta = norm.cdf(d1)\n",
    "        else:  # Put option\n",
    "            delta = -norm.cdf(-d1)\n",
    "        return delta"
   ]
  },
  {
   "cell_type": "code",
   "execution_count": 96,
   "id": "ee0a9e82",
   "metadata": {},
   "outputs": [],
   "source": [
    "class MonteCarloEuropeanOption:\n",
    "    default_steps = 500\n",
    "    default_simulations = 100000\n",
    "\n",
    "    def __init__(self, maturity: float, initialStockPrice: float, strikePrice: float, riskFreeRate: float, impliedVolatility: float, option_type: str):\n",
    "        self.maturity = maturity\n",
    "        self.initialStockPrice = initialStockPrice\n",
    "        self.strikePrice = strikePrice\n",
    "        self.riskFreeRate = riskFreeRate\n",
    "        self.impliedVolatility = impliedVolatility\n",
    "        self.option_type = option_type.lower()\n",
    "        self.steps = MonteCarloEuropeanOption.default_steps\n",
    "        self.simulations = MonteCarloEuropeanOption.default_simulations\n",
    "\n",
    "    def simulate_stock_price(self):\n",
    "        dt = self.maturity / self.steps\n",
    "        half_simulations = self.simulations // 2\n",
    "        price_paths = np.zeros((self.steps, self.simulations))\n",
    "        price_paths[0, :] = self.initialStockPrice\n",
    "        for t in range(1, self.steps):\n",
    "            Z = np.random.standard_normal(half_simulations)\n",
    "            antithetic_Z = -Z\n",
    "            Z = np.concatenate((Z, antithetic_Z))  # Combine normal and antithetic variates\n",
    "            price_paths[t] = price_paths[t - 1] * np.exp((self.riskFreeRate - 0.5 * self.impliedVolatility**2) * dt + self.impliedVolatility * np.sqrt(dt) * Z)\n",
    "        return price_paths\n",
    "\n",
    "    def price(self):\n",
    "        terminal_prices = self.simulate_stock_price()[-1]\n",
    "        payoffs = np.maximum(terminal_prices - self.strikePrice, 0) if self.option_type == 'call' else np.maximum(self.strikePrice - terminal_prices, 0)\n",
    "        discounted_payoff = np.exp(-self.riskFreeRate * self.maturity) * np.mean(payoffs)\n",
    "        return discounted_payoff\n",
    "\n",
    "    def delta(self):\n",
    "        dt = self.maturity / self.steps\n",
    "        price_paths = self.simulate_stock_price()\n",
    "        terminal_prices = price_paths[-1]\n",
    "        if self.option_type == 'call':\n",
    "            in_the_money = terminal_prices > self.strikePrice\n",
    "            payoffs = np.exp(-self.riskFreeRate * self.maturity) * in_the_money * (price_paths[-1] / self.initialStockPrice)\n",
    "        else:\n",
    "            in_the_money = terminal_prices < self.strikePrice\n",
    "            payoffs = -np.exp(-self.riskFreeRate * self.maturity) * in_the_money * (price_paths[-1] / self.initialStockPrice)\n",
    "        return np.mean(payoffs)"
   ]
  },
  {
   "cell_type": "code",
   "execution_count": null,
   "id": "37bc6206",
   "metadata": {},
   "outputs": [],
   "source": []
  },
  {
   "cell_type": "code",
   "execution_count": 1,
   "id": "85188e80",
   "metadata": {},
   "outputs": [],
   "source": [
    "class AnalyticalVanillaEuropeanOption:\n",
    "    def __init__(self, maturity: float, initialStockPrice: float, strikePrice: float, riskFreeRate: float, impliedVolatility: float, option_type: str):\n",
    "        self.maturity = maturity\n",
    "        self.initialStockPrice = initialStockPrice\n",
    "        self.strikePrice = strikePrice\n",
    "        self.riskFreeRate = riskFreeRate\n",
    "        self.impliedVolatility = impliedVolatility\n",
    "        self.option_type = option_type.lower()\n",
    "\n",
    "    def __compute_d1_d2(self):\n",
    "        d1 = (np.log(self.initialStockPrice / self.strikePrice) + \n",
    "              (self.riskFreeRate + 0.5 * self.impliedVolatility**2) * \n",
    "              self.maturity) / (self.impliedVolatility * np.sqrt(self.maturity))\n",
    "        d2 = d1 - self.impliedVolatility * np.sqrt(self.maturity)\n",
    "        return d1, d2\n",
    "    \n",
    "    def price(self):\n",
    "        d1, d2 = self.__compute_d1_d2()\n",
    "        if self.option_type == 'call':\n",
    "            price = (self.initialStockPrice * norm.cdf(d1) - \n",
    "                     self.strikePrice * np.exp(-self.riskFreeRate * self.maturity) * \n",
    "                     norm.cdf(d2))\n",
    "        else:  # Put option\n",
    "            price = (self.strikePrice * np.exp(-self.riskFreeRate * self.maturity) * \n",
    "                     norm.cdf(-d2) - self.initialStockPrice * norm.cdf(-d1))\n",
    "        return price\n",
    "    \n",
    "    def delta(self):\n",
    "        d1, _ = self.__compute_d1_d2()\n",
    "        if self.option_type == 'call':\n",
    "            delta = norm.cdf(d1)\n",
    "        else:  # Put option\n",
    "            delta = -norm.cdf(-d1)\n",
    "        return delta"
   ]
  },
  {
   "cell_type": "code",
   "execution_count": null,
   "id": "9c431dee",
   "metadata": {},
   "outputs": [],
   "source": []
  },
  {
   "cell_type": "code",
   "execution_count": null,
   "id": "c492dc9e",
   "metadata": {},
   "outputs": [],
   "source": []
  },
  {
   "cell_type": "code",
   "execution_count": null,
   "id": "1019f8db",
   "metadata": {},
   "outputs": [],
   "source": []
  },
  {
   "cell_type": "code",
   "execution_count": null,
   "id": "953481ae",
   "metadata": {},
   "outputs": [],
   "source": []
  },
  {
   "cell_type": "code",
   "execution_count": 97,
   "id": "e852a719",
   "metadata": {},
   "outputs": [],
   "source": [
    "class AnalyticalChooserOption:\n",
    "    def __init__(self, time_to_choose: float, maturity: float, \n",
    "                 initialStockPrice: float, strikePrice: float, riskFreeRate: float, impliedVolatility: float):\n",
    "        self.time_to_choose = time_to_choose\n",
    "        self.maturity = maturity\n",
    "        self.initialStockPrice = initialStockPrice\n",
    "        self.strikePrice = strikePrice\n",
    "        self.riskFreeRate = riskFreeRate\n",
    "        self.impliedVolatility = impliedVolatility\n",
    "\n",
    "    def __d_plus(self):\n",
    "        T = self.maturity\n",
    "        return ((np.log(self.initialStockPrice / self.strikePrice) + \n",
    "                (self.riskFreeRate + (self.impliedVolatility**2) / 2) * T) / \n",
    "                (self.impliedVolatility * np.sqrt(T)))\n",
    "\n",
    "    def __d_minus(self, d_plus):\n",
    "        T = self.maturity\n",
    "        return d_plus - self.impliedVolatility * np.sqrt(T)\n",
    "\n",
    "    def __d1(self):\n",
    "        t = self.time_to_choose\n",
    "        T = self.maturity\n",
    "        return ((np.log(self.initialStockPrice / self.strikePrice) + \n",
    "                 self.riskFreeRate * T + (self.impliedVolatility**2 / 2) * t) / \n",
    "                (self.impliedVolatility * np.sqrt(t)))\n",
    "\n",
    "    def __d2(self, d1):\n",
    "        return d1 - self.impliedVolatility * np.sqrt(self.time_to_choose)\n",
    "\n",
    "    def price(self):\n",
    "        d_plus = self.__d_plus()\n",
    "        d_minus = self.__d_minus(d_plus)\n",
    "        d1 = self.__d1()\n",
    "        d2 = self.__d2(d1)\n",
    "\n",
    "        value = (self.initialStockPrice * (norm.cdf(d_plus) - norm.cdf(-d1)) +\n",
    "                 self.strikePrice * np.exp(-self.riskFreeRate * self.maturity) * \n",
    "                 (norm.cdf(-d2) - norm.cdf(d_minus)))\n",
    "        return value\n",
    "    \n",
    "    def delta(self):\n",
    "        d_plus = self.__d_plus()\n",
    "        d1 = self.__d1()\n",
    "        return norm.cdf(d_plus) - norm.cdf(-d1)"
   ]
  },
  {
   "cell_type": "code",
   "execution_count": 98,
   "id": "cadea60b",
   "metadata": {},
   "outputs": [],
   "source": [
    "class MonteCarloChooserOption:\n",
    "    def __init__(self, time_to_choose: float, maturity: float, \n",
    "                 initialStockPrice: float, strikePrice: float, riskFreeRate: float, \n",
    "                 impliedVolatility: float, simulations: int = 1000000, steps: int = 500):\n",
    "        self.time_to_choose = time_to_choose\n",
    "        self.maturity = maturity\n",
    "        self.initialStockPrice = initialStockPrice\n",
    "        self.strikePrice = strikePrice\n",
    "        self.riskFreeRate = riskFreeRate\n",
    "        self.impliedVolatility = impliedVolatility\n",
    "        self.simulations = simulations\n",
    "        self.steps = steps\n",
    "\n",
    "    def simulate_stock_price(self):\n",
    "        dt = self.time_to_choose / self.steps\n",
    "        price_paths = np.zeros((self.steps, self.simulations))\n",
    "        price_paths[0, :] = self.initialStockPrice\n",
    "\n",
    "        for t in range(1, self.steps):\n",
    "            Z = np.random.standard_normal(self.simulations)\n",
    "            price_paths[t] = price_paths[t - 1] * np.exp((self.riskFreeRate - 0.5 * self.impliedVolatility**2) * dt + self.impliedVolatility * np.sqrt(dt) * Z)\n",
    "        \n",
    "        return price_paths[-1]\n",
    "\n",
    "    def calculate_payoff(self):\n",
    "        final_prices = self.simulate_stock_price()\n",
    "        # Decision for call or put at the choice time\n",
    "        call_payoff = np.maximum(final_prices - self.strikePrice, 0)\n",
    "        put_payoff = np.maximum(self.strikePrice - final_prices, 0)\n",
    "        # Choose the higher payoff for each path\n",
    "        payoffs = np.maximum(call_payoff, put_payoff)\n",
    "        return payoffs\n",
    "\n",
    "    def price(self):\n",
    "        payoffs = self.calculate_payoff()\n",
    "        # Discount the average payoff back to the present value\n",
    "        discounted_payoff = np.exp(-self.riskFreeRate * self.maturity) * np.mean(payoffs)\n",
    "        return discounted_payoff"
   ]
  },
  {
   "cell_type": "code",
   "execution_count": null,
   "id": "b918a6db",
   "metadata": {},
   "outputs": [],
   "source": []
  },
  {
   "cell_type": "code",
   "execution_count": 134,
   "id": "d4dd36b7",
   "metadata": {},
   "outputs": [
    {
     "name": "stdout",
     "output_type": "stream",
     "text": [
      "The price of the chooser option is: 14.418531412026764\n",
      "The delta of the chooser option is: -0.14893491764979422\n"
     ]
    }
   ],
   "source": [
    "# Create an instance of the class\n",
    "chooser_option = AnalyticalChooserOption(\n",
    "    time_to_choose=0.5, \n",
    "    maturity=1, \n",
    "    initialStockPrice=100, \n",
    "    strikePrice=110, \n",
    "    riskFreeRate=0.05, \n",
    "    impliedVolatility=0.20\n",
    ")\n",
    "\n",
    "# Calculate the price of the chooser option\n",
    "option_price = chooser_option.price()\n",
    "\n",
    "# Calculate the delta of the chooser option\n",
    "option_delta = chooser_option.delta()\n",
    "\n",
    "print(f\"The price of the chooser option is: {option_price}\")\n",
    "print(f\"The delta of the chooser option is: {option_delta}\")"
   ]
  },
  {
   "cell_type": "code",
   "execution_count": null,
   "id": "7411a26b",
   "metadata": {},
   "outputs": [],
   "source": []
  },
  {
   "cell_type": "code",
   "execution_count": 99,
   "id": "938f8746",
   "metadata": {},
   "outputs": [],
   "source": [
    "class AnalyticalCashOrNothingOption:\n",
    "    def __init__(self, maturity: float, initialStockPrice: float, strikePrice: float, riskFreeRate: float, impliedVolatility: float, payout: float, option_type: str):\n",
    "        self.maturity = maturity\n",
    "        self.initialStockPrice = initialStockPrice\n",
    "        self.strikePrice = strikePrice\n",
    "        self.riskFreeRate = riskFreeRate\n",
    "        self.impliedVolatility = impliedVolatility\n",
    "        self.payout = payout\n",
    "        self.kappa = 1 if option_type.lower() == 'call' else -1\n",
    "\n",
    "    def __d_minus(self):\n",
    "        return ((np.log(self.initialStockPrice / self.strikePrice) + \n",
    "                (self.riskFreeRate - (self.impliedVolatility**2) / 2) * self.maturity) / \n",
    "                (self.impliedVolatility * np.sqrt(self.maturity)))\n",
    "\n",
    "    def price(self):\n",
    "        d_minus = self.__d_minus()\n",
    "        value = self.payout * np.exp(-self.riskFreeRate * self.maturity) * norm.cdf(self.kappa * d_minus)\n",
    "        return value\n",
    "    \n",
    "    def delta(self):\n",
    "        d_minus = self.__d_minus()\n",
    "        phi_d_minus = norm.pdf(d_minus)  # Standard normal probability density function at d_minus\n",
    "        delta = self.kappa * self.payout * np.exp(-self.riskFreeRate * self.maturity) * \\\n",
    "                phi_d_minus / (self.impliedVolatility * self.initialStockPrice * np.sqrt(self.maturity))\n",
    "        return delta"
   ]
  },
  {
   "cell_type": "code",
   "execution_count": 100,
   "id": "9ece9b12",
   "metadata": {},
   "outputs": [],
   "source": [
    "class MonteCarloCashOrNothingOption:\n",
    "    default_steps = 500\n",
    "    default_simulations = 100000\n",
    "\n",
    "    def __init__(self, maturity: float, initialStockPrice: float, strikePrice: float, riskFreeRate: float, impliedVolatility: float, payout: float, option_type: str):\n",
    "        self.maturity = maturity\n",
    "        self.initialStockPrice = initialStockPrice\n",
    "        self.strikePrice = strikePrice\n",
    "        self.riskFreeRate = riskFreeRate\n",
    "        self.impliedVolatility = impliedVolatility\n",
    "        self.payout = payout\n",
    "        self.option_type = option_type.lower()\n",
    "        self.steps = MonteCarloCashOrNothingOption.default_steps\n",
    "        self.simulations = MonteCarloCashOrNothingOption.default_simulations\n",
    "\n",
    "    def simulate_stock_price(self):\n",
    "        dt = self.maturity / self.steps\n",
    "        half_simulations = self.simulations // 2\n",
    "        price_paths = np.zeros((self.steps, self.simulations))\n",
    "        price_paths[0, :] = self.initialStockPrice\n",
    "        for t in range(1, self.steps):\n",
    "            Z = np.random.standard_normal(half_simulations)\n",
    "            antithetic_Z = -Z\n",
    "            Z = np.concatenate((Z, antithetic_Z))  # Combine normal and antithetic variates\n",
    "            price_paths[t] = price_paths[t - 1] * np.exp((self.riskFreeRate - 0.5 * self.impliedVolatility**2) * dt + self.impliedVolatility * np.sqrt(dt) * Z)\n",
    "        return price_paths\n",
    "\n",
    "    def price(self):\n",
    "        terminal_prices = self.simulate_stock_price()[-1]\n",
    "        if self.option_type == 'call':\n",
    "            payoffs = np.where(terminal_prices > self.strikePrice, self.payout, 0)\n",
    "        else:\n",
    "            payoffs = np.where(terminal_prices < self.strikePrice, self.payout, 0)\n",
    "        discounted_payoff = np.exp(-self.riskFreeRate * self.maturity) * np.mean(payoffs)\n",
    "        return discounted_payoff\n",
    "    \n",
    "    \n",
    "    def delta(self):\n",
    "        epsilon = 0.01  # Small change in the initial stock price\n",
    "\n",
    "        # Bump the stock price up and down\n",
    "        bumped_up_price = self.initialStockPrice * (1 + epsilon)\n",
    "        bumped_down_price = self.initialStockPrice * (1 - epsilon)\n",
    "\n",
    "        # Save original stock price and set to bumped up price\n",
    "        original_stock_price = self.initialStockPrice\n",
    "        self.initialStockPrice = bumped_up_price\n",
    "        terminal_prices_up = self.simulate_stock_price()[-1]\n",
    "\n",
    "        # Reset to original and set to bumped down price\n",
    "        self.initialStockPrice = bumped_down_price\n",
    "        terminal_prices_down = self.simulate_stock_price()[-1]\n",
    "\n",
    "        # Reset to original price\n",
    "        self.initialStockPrice = original_stock_price\n",
    "\n",
    "        if self.option_type == 'call':\n",
    "            payoffs_up = np.where(terminal_prices_up > self.strikePrice, self.payout, 0)\n",
    "            payoffs_down = np.where(terminal_prices_down > self.strikePrice, self.payout, 0)\n",
    "        else:  # put option\n",
    "            payoffs_up = np.where(terminal_prices_up < self.strikePrice, self.payout, 0)\n",
    "            payoffs_down = np.where(terminal_prices_down < self.strikePrice, self.payout, 0)\n",
    "\n",
    "        delta_estimate = (np.mean(payoffs_up) - np.mean(payoffs_down)) / (2 * epsilon * self.initialStockPrice)\n",
    "        return np.exp(-self.riskFreeRate * self.maturity) * delta_estimate"
   ]
  },
  {
   "cell_type": "markdown",
   "id": "900c7c60",
   "metadata": {},
   "source": [
    "## Data Generation"
   ]
  },
  {
   "cell_type": "code",
   "execution_count": 101,
   "id": "e22a5fc4",
   "metadata": {},
   "outputs": [],
   "source": [
    "class GenerateSyntheticData:\n",
    "    \n",
    "    def __init__(self, nsamples: int):\n",
    "        self.nsamples = nsamples\n",
    "\n",
    "    def data(self):\n",
    "        # Generating random data\n",
    "        stockPrice = np.random.uniform(50, 500, self.nsamples)  # Spot price\n",
    "        strikePrice = np.random.uniform(40, 600, self.nsamples)  # Strike price\n",
    "        maturity = np.random.uniform(1/252, 5, self.nsamples)  # Time to maturity in years\n",
    "        time_to_choose = np.random.uniform(1/252, maturity, self.nsamples) # generate time to choose for the chooser option\n",
    "        riskFreeRate = np.random.uniform(0.01, 0.08, self.nsamples)  # Risk-free interest rate\n",
    "        impliedVolatility = np.random.uniform(0.1, 0.5, self.nsamples)  # Volatility\n",
    "\n",
    "        # Combining the data into a single array for scaling\n",
    "        data = np.array([maturity, stockPrice, strikePrice, riskFreeRate, impliedVolatility])\n",
    "\n",
    "        return data\n",
    "\n",
    "# Parameters\n",
    "nsamples = 20000\n",
    "generator = GenerateSyntheticData(nsamples)\n",
    "dataset = generator.data()\n",
    "\n",
    "nsamplesTest = 5\n",
    "gen = generator = GenerateSyntheticData(nsamplesTest)\n",
    "dataTest = generator.data()"
   ]
  },
  {
   "cell_type": "markdown",
   "id": "ac70c8d6",
   "metadata": {},
   "source": [
    "## The Study of the Three Structures"
   ]
  },
  {
   "cell_type": "code",
   "execution_count": 102,
   "id": "7ed10c6f",
   "metadata": {},
   "outputs": [],
   "source": [
    "zcbPrice = ZeroCouponBond(dataset[0], dataset[3]).price() # the zero coupon bond\n",
    "analyticalCallPrice = AnalyticalVanillaEuropeanOption(dataset[0], dataset[1], dataset[2], dataset[3], dataset[4], 'call').price()\n",
    "analyticalCallDelta = AnalyticalVanillaEuropeanOption(dataset[0], dataset[1], dataset[2], dataset[3], dataset[4], 'call').delta()\n",
    "vanillaCallStructure = zcbPrice + analyticalCallPrice\n",
    "\n",
    "#We need time to chooser to be less than maturity\n",
    "#time_to_choose = np.random.uniform(0.001, 3, nsamples)  # Time to maturity in years\n",
    "#analyticalChooserPrice = AnalyticalChooserOption(dataset[0], dataset[1], dataset[2], dataset[3], dataset[4], 'call').price()\n",
    "#analyticalChooserDelta = AnalyticalVanillaEuropeanOption(dataset[0], dataset[1], dataset[2], dataset[3], dataset[4], 'call').delta()"
   ]
  },
  {
   "cell_type": "code",
   "execution_count": 103,
   "id": "091cab6b",
   "metadata": {},
   "outputs": [
    {
     "data": {
      "text/plain": [
       "(array([1.25826728e+02, 4.05174029e-02, 4.62565623e+01, ...,\n",
       "        1.06970387e-61, 1.04828965e+02, 1.57353059e+00]),\n",
       " array([0.90631844, 0.97406133, 0.8923671 , ..., 0.99190327, 0.88295345,\n",
       "        0.86323048]),\n",
       " array([126.73304653,   1.01457873,  47.14892941, ...,   0.99190327,\n",
       "        105.71191821,   2.43676107]))"
      ]
     },
     "execution_count": 103,
     "metadata": {},
     "output_type": "execute_result"
    }
   ],
   "source": [
    "analyticalCallPrice, zcbPrice, vanillaCallStructure"
   ]
  },
  {
   "cell_type": "markdown",
   "id": "e7cbdc16",
   "metadata": {},
   "source": [
    "## Feedforward Neural Network model"
   ]
  },
  {
   "cell_type": "code",
   "execution_count": 104,
   "id": "1d5b1824",
   "metadata": {},
   "outputs": [
    {
     "data": {
      "text/plain": [
       "<keras.callbacks.History at 0x2d628898670>"
      ]
     },
     "execution_count": 104,
     "metadata": {},
     "output_type": "execute_result"
    }
   ],
   "source": [
    "# Define the neural network model\n",
    "model = tf.keras.models.Sequential([\n",
    "    tf.keras.layers.Dense(64, activation='relu', input_shape=(5,)),  # 5 inputs: maturity, stockPrice, strikePrice, riskFreeRate, volatility\n",
    "    tf.keras.layers.Dense(128, activation='relu'),\n",
    "    tf.keras.layers.Dense(128, activation='relu'),\n",
    "    tf.keras.layers.Dense(128, activation='relu'),\n",
    "    tf.keras.layers.Dense(1)  # Output layer for option price\n",
    "])\n",
    "\n",
    "# Compile the model\n",
    "model.compile(optimizer='adam', loss='mean_squared_error')\n",
    "\n",
    "#_, accuracy = model.evaluate(dataset, vanillaCallStructure)\n",
    "#print('Accuracy: %.2f' % (accuracy*100))\n",
    "\n",
    "# Train the model\n",
    "model.fit(dataset.T, vanillaCallStructure, epochs=100, verbose=0) #transpose the dataset"
   ]
  },
  {
   "cell_type": "markdown",
   "id": "639b4c65",
   "metadata": {},
   "source": [
    "### Testing and Validation"
   ]
  },
  {
   "cell_type": "code",
   "execution_count": 105,
   "id": "6236a8ee",
   "metadata": {},
   "outputs": [],
   "source": [
    "vanillaCallStructureTest = ZeroCouponBond(dataTest[0], dataTest[3]).price()+AnalyticalVanillaEuropeanOption(dataTest[0], dataTest[1], dataTest[2], dataTest[3], dataTest[4], 'call').price()"
   ]
  },
  {
   "cell_type": "code",
   "execution_count": 106,
   "id": "049445fd",
   "metadata": {},
   "outputs": [
    {
     "name": "stdout",
     "output_type": "stream",
     "text": [
      "1/1 [==============================] - 0s 53ms/step\n"
     ]
    },
    {
     "data": {
      "text/plain": [
       "(array([  0.96560195, 193.99361821,   0.96566891,   0.9848186 ,\n",
       "        126.89561564]),\n",
       " array([[2.6821225e+02, 4.2008836e+04, 1.6396144e+05, 3.9305997e+00,\n",
       "         2.2502499e+01]], dtype=float32))"
      ]
     },
     "execution_count": 106,
     "metadata": {},
     "output_type": "execute_result"
    }
   ],
   "source": [
    "vanillaCallStructureTest, model.predict(dataTest).T"
   ]
  },
  {
   "cell_type": "code",
   "execution_count": 107,
   "id": "20452592",
   "metadata": {},
   "outputs": [],
   "source": [
    "# Generate test data\n",
    "#X_test, y_test = generate_data(nsamples)  # Number of test samples\n",
    "\n",
    "# Evaluate the model\n",
    "#model.evaluate(X_test, y_test)"
   ]
  },
  {
   "cell_type": "code",
   "execution_count": 108,
   "id": "feb44905",
   "metadata": {},
   "outputs": [],
   "source": [
    "#predicted_prices = model.predict(X_test).flatten()"
   ]
  },
  {
   "cell_type": "code",
   "execution_count": null,
   "id": "04ad8084",
   "metadata": {},
   "outputs": [],
   "source": []
  },
  {
   "cell_type": "code",
   "execution_count": null,
   "id": "a347a91a",
   "metadata": {},
   "outputs": [],
   "source": []
  }
 ],
 "metadata": {
  "kernelspec": {
   "display_name": "Python 3 (ipykernel)",
   "language": "python",
   "name": "python3"
  },
  "language_info": {
   "codemirror_mode": {
    "name": "ipython",
    "version": 3
   },
   "file_extension": ".py",
   "mimetype": "text/x-python",
   "name": "python",
   "nbconvert_exporter": "python",
   "pygments_lexer": "ipython3",
   "version": "3.9.12"
  }
 },
 "nbformat": 4,
 "nbformat_minor": 5
}
